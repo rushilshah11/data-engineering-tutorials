{
 "cells": [
  {
   "cell_type": "code",
   "execution_count": 111,
   "id": "4aa0bf96",
   "metadata": {},
   "outputs": [],
   "source": [
    "import pyspark\n",
    "import pandas as pd\n",
    "from pyspark.sql import SparkSession\n",
    "import openpyxl"
   ]
  },
  {
   "cell_type": "code",
   "execution_count": 112,
   "id": "04027cf3",
   "metadata": {},
   "outputs": [
    {
     "data": {
      "text/html": [
       "\n",
       "            <div>\n",
       "                <p><b>SparkSession - in-memory</b></p>\n",
       "                \n",
       "        <div>\n",
       "            <p><b>SparkContext</b></p>\n",
       "\n",
       "            <p><a href=\"http://mbp--rushil.lan:4040\">Spark UI</a></p>\n",
       "\n",
       "            <dl>\n",
       "              <dt>Version</dt>\n",
       "                <dd><code>v4.0.1</code></dd>\n",
       "              <dt>Master</dt>\n",
       "                <dd><code>local[*]</code></dd>\n",
       "              <dt>AppName</dt>\n",
       "                <dd><code>DataFrame</code></dd>\n",
       "            </dl>\n",
       "        </div>\n",
       "        \n",
       "            </div>\n",
       "        "
      ],
      "text/plain": [
       "<pyspark.sql.session.SparkSession at 0x114779910>"
      ]
     },
     "execution_count": 112,
     "metadata": {},
     "output_type": "execute_result"
    }
   ],
   "source": [
    "spark = SparkSession.builder.appName(\"DataFrame\").getOrCreate()\n",
    "spark"
   ]
  },
  {
   "cell_type": "code",
   "execution_count": 113,
   "id": "d7ee8aaa",
   "metadata": {},
   "outputs": [
    {
     "name": "stdout",
     "output_type": "stream",
     "text": [
      "+------+----+----------+-----------+------+\n",
      "|  name| age|experience| department|salary|\n",
      "+------+----+----------+-----------+------+\n",
      "|Rushil|24.0|         2|Engineering| 60000|\n",
      "| Manav|27.0|         5|         HR| 75000|\n",
      "| Ruchi|30.0|         8|    Finance| 80000|\n",
      "|Akshat|28.0|         6|Engineering| 70000|\n",
      "|Shivam|35.0|        10|         HR| 90000|\n",
      "+------+----+----------+-----------+------+\n",
      "\n"
     ]
    }
   ],
   "source": [
    "# read csv file\n",
    "df_pyspark = spark.read.csv('test.csv', header='true', inferSchema='true')\n",
    "df_pyspark.show()"
   ]
  },
  {
   "cell_type": "code",
   "execution_count": 114,
   "id": "cfe9537a",
   "metadata": {},
   "outputs": [
    {
     "name": "stdout",
     "output_type": "stream",
     "text": [
      "root\n",
      " |-- name: string (nullable = true)\n",
      " |-- age: double (nullable = true)\n",
      " |-- experience: integer (nullable = true)\n",
      " |-- department: string (nullable = true)\n",
      " |-- salary: integer (nullable = true)\n",
      "\n"
     ]
    }
   ],
   "source": [
    "# Check Schema\n",
    "df_pyspark.printSchema()"
   ]
  },
  {
   "cell_type": "markdown",
   "id": "3d83f797",
   "metadata": {},
   "source": []
  },
  {
   "cell_type": "code",
   "execution_count": 115,
   "id": "c0ace524",
   "metadata": {},
   "outputs": [
    {
     "name": "stdout",
     "output_type": "stream",
     "text": [
      "+------+----+----------+-----------+------+\n",
      "|  name| age|experience| department|salary|\n",
      "+------+----+----------+-----------+------+\n",
      "|Rushil|24.0|         2|Engineering| 60000|\n",
      "| Manav|27.0|         5|         HR| 75000|\n",
      "| Ruchi|30.0|         8|    Finance| 80000|\n",
      "|Akshat|28.0|         6|Engineering| 70000|\n",
      "|Shivam|35.0|        10|         HR| 90000|\n",
      "+------+----+----------+-----------+------+\n",
      "\n"
     ]
    }
   ],
   "source": [
    "df_pyspark.na.drop(how=\"any\").show()"
   ]
  },
  {
   "cell_type": "code",
   "execution_count": 116,
   "id": "7ffddcbb",
   "metadata": {},
   "outputs": [
    {
     "name": "stdout",
     "output_type": "stream",
     "text": [
      "+------+----+----------+-----------+------+\n",
      "|  name| age|experience| department|salary|\n",
      "+------+----+----------+-----------+------+\n",
      "|Rushil|24.0|         2|Engineering| 60000|\n",
      "| Manav|27.0|         5|         HR| 75000|\n",
      "| Ruchi|30.0|         8|    Finance| 80000|\n",
      "|Akshat|28.0|         6|Engineering| 70000|\n",
      "|Shivam|35.0|        10|         HR| 90000|\n",
      "+------+----+----------+-----------+------+\n",
      "\n"
     ]
    }
   ],
   "source": [
    "df_pyspark.na.drop(how=\"any\", thresh=1).show()"
   ]
  },
  {
   "cell_type": "code",
   "execution_count": 117,
   "id": "15ba8db5",
   "metadata": {},
   "outputs": [
    {
     "name": "stdout",
     "output_type": "stream",
     "text": [
      "+------+----+----------+-----------+------+\n",
      "|  name| age|experience| department|salary|\n",
      "+------+----+----------+-----------+------+\n",
      "|Rushil|24.0|         2|Engineering| 60000|\n",
      "| Manav|27.0|         5|         HR| 75000|\n",
      "| Ruchi|30.0|         8|    Finance| 80000|\n",
      "|Akshat|28.0|         6|Engineering| 70000|\n",
      "|Shivam|35.0|        10|         HR| 90000|\n",
      "+------+----+----------+-----------+------+\n",
      "\n"
     ]
    }
   ],
   "source": [
    "# For string columns\n",
    "df_filled = df_pyspark.na.fill(\"Missing\", subset=[\"name\"])\n",
    "\n",
    "# For numeric columns\n",
    "df_filled = df_filled.na.fill(0, subset=[ \"salary\"])\n",
    "\n",
    "df_filled.show()"
   ]
  },
  {
   "cell_type": "code",
   "execution_count": 118,
   "id": "53c431a1",
   "metadata": {},
   "outputs": [],
   "source": [
    "from pyspark.ml.feature import Imputer\n",
    "\n",
    "imputer = Imputer(\n",
    "    inputCols=[\"age\", \"experience\", \"salary\"],\n",
    "    outputCols=[\"{}_imputed\".format(c) for c in [\"age\", \"experience\", \"salary\"]]\n",
    ").setStrategy(\"median\")"
   ]
  },
  {
   "cell_type": "code",
   "execution_count": 119,
   "id": "f7cdace6",
   "metadata": {},
   "outputs": [
    {
     "name": "stdout",
     "output_type": "stream",
     "text": [
      "+------+----+----------+-----------+------+-----------+------------------+--------------+\n",
      "|  name| age|experience| department|salary|age_imputed|experience_imputed|salary_imputed|\n",
      "+------+----+----------+-----------+------+-----------+------------------+--------------+\n",
      "|Rushil|24.0|         2|Engineering| 60000|       24.0|                 2|         60000|\n",
      "| Manav|27.0|         5|         HR| 75000|       27.0|                 5|         75000|\n",
      "| Ruchi|30.0|         8|    Finance| 80000|       30.0|                 8|         80000|\n",
      "|Akshat|28.0|         6|Engineering| 70000|       28.0|                 6|         70000|\n",
      "|Shivam|35.0|        10|         HR| 90000|       35.0|                10|         90000|\n",
      "+------+----+----------+-----------+------+-----------+------------------+--------------+\n",
      "\n"
     ]
    }
   ],
   "source": [
    "imputer.fit(df_pyspark).transform(df_pyspark).show()"
   ]
  },
  {
   "cell_type": "code",
   "execution_count": 120,
   "id": "043696fe",
   "metadata": {},
   "outputs": [
    {
     "name": "stdout",
     "output_type": "stream",
     "text": [
      "+------+----+----------+-----------+------+\n",
      "|  name| age|experience| department|salary|\n",
      "+------+----+----------+-----------+------+\n",
      "|Rushil|24.0|         2|Engineering| 60000|\n",
      "|Akshat|28.0|         6|Engineering| 70000|\n",
      "+------+----+----------+-----------+------+\n",
      "\n"
     ]
    }
   ],
   "source": [
    "# Salary of people with less or equal to 70000\n",
    "df_pyspark.filter(df_pyspark.salary <= 70000).show()"
   ]
  },
  {
   "cell_type": "code",
   "execution_count": 121,
   "id": "08cc2902",
   "metadata": {},
   "outputs": [
    {
     "name": "stdout",
     "output_type": "stream",
     "text": [
      "+------+----+\n",
      "|  name| age|\n",
      "+------+----+\n",
      "|Rushil|24.0|\n",
      "|Akshat|28.0|\n",
      "+------+----+\n",
      "\n"
     ]
    }
   ],
   "source": [
    "df_pyspark.filter(df_pyspark.salary <= 70000).select([\"name\", \"age\"]).show()"
   ]
  },
  {
   "cell_type": "code",
   "execution_count": 122,
   "id": "924393bd",
   "metadata": {},
   "outputs": [
    {
     "name": "stdout",
     "output_type": "stream",
     "text": [
      "+------+----+----------+-----------+------+\n",
      "|  name| age|experience| department|salary|\n",
      "+------+----+----------+-----------+------+\n",
      "|Akshat|28.0|         6|Engineering| 70000|\n",
      "+------+----+----------+-----------+------+\n",
      "\n"
     ]
    }
   ],
   "source": [
    "df_pyspark.filter((df_pyspark.salary <= 70000) & (df_pyspark.experience >= 5)).show()"
   ]
  },
  {
   "cell_type": "code",
   "execution_count": 123,
   "id": "caa8c19c",
   "metadata": {},
   "outputs": [
    {
     "name": "stdout",
     "output_type": "stream",
     "text": [
      "+------+--------+---------------+-----------+\n",
      "|  Name|sum(age)|sum(experience)|sum(salary)|\n",
      "+------+--------+---------------+-----------+\n",
      "|Rushil|    24.0|              2|      60000|\n",
      "| Ruchi|    30.0|              8|      80000|\n",
      "|Akshat|    28.0|              6|      70000|\n",
      "|Shivam|    35.0|             10|      90000|\n",
      "| Manav|    27.0|              5|      75000|\n",
      "+------+--------+---------------+-----------+\n",
      "\n"
     ]
    }
   ],
   "source": [
    "# GroupBy\n",
    "df_pyspark.groupBy(\"Name\").sum().show()"
   ]
  },
  {
   "cell_type": "code",
   "execution_count": 124,
   "id": "f6fb1cf7",
   "metadata": {},
   "outputs": [
    {
     "name": "stdout",
     "output_type": "stream",
     "text": [
      "+-----------+--------+---------------+-----------+\n",
      "| Department|sum(age)|sum(experience)|sum(salary)|\n",
      "+-----------+--------+---------------+-----------+\n",
      "|Engineering|    52.0|              8|     130000|\n",
      "|         HR|    62.0|             15|     165000|\n",
      "|    Finance|    30.0|              8|      80000|\n",
      "+-----------+--------+---------------+-----------+\n",
      "\n"
     ]
    }
   ],
   "source": [
    "# Group By Department\n",
    "df_pyspark.groupBy(\"Department\").sum().show()"
   ]
  },
  {
   "cell_type": "code",
   "execution_count": 125,
   "id": "d65bba9d",
   "metadata": {},
   "outputs": [
    {
     "name": "stdout",
     "output_type": "stream",
     "text": [
      "+-----------+--------+---------------+-----------+\n",
      "| Department|avg(age)|avg(experience)|avg(salary)|\n",
      "+-----------+--------+---------------+-----------+\n",
      "|Engineering|    26.0|            4.0|    65000.0|\n",
      "|         HR|    31.0|            7.5|    82500.0|\n",
      "|    Finance|    30.0|            8.0|    80000.0|\n",
      "+-----------+--------+---------------+-----------+\n",
      "\n"
     ]
    }
   ],
   "source": [
    "df_pyspark.groupBy(\"Department\").mean().show()"
   ]
  },
  {
   "cell_type": "code",
   "execution_count": 126,
   "id": "a3347ecf",
   "metadata": {},
   "outputs": [
    {
     "name": "stdout",
     "output_type": "stream",
     "text": [
      "+-----------+-----+\n",
      "| Department|count|\n",
      "+-----------+-----+\n",
      "|Engineering|    2|\n",
      "|         HR|    2|\n",
      "|    Finance|    1|\n",
      "+-----------+-----+\n",
      "\n"
     ]
    }
   ],
   "source": [
    "df_pyspark.groupBy(\"Department\").count().show()"
   ]
  },
  {
   "cell_type": "code",
   "execution_count": 127,
   "id": "e5473b96",
   "metadata": {},
   "outputs": [
    {
     "name": "stdout",
     "output_type": "stream",
     "text": [
      "+-----------+\n",
      "|sum(salary)|\n",
      "+-----------+\n",
      "|     375000|\n",
      "+-----------+\n",
      "\n"
     ]
    }
   ],
   "source": [
    "df_pyspark.agg({'salary': 'sum'}).show()"
   ]
  },
  {
   "cell_type": "code",
   "execution_count": 129,
   "id": "beb7942a",
   "metadata": {},
   "outputs": [
    {
     "name": "stdout",
     "output_type": "stream",
     "text": [
      "+------+----+----------+-----------+------+\n",
      "|  name| age|experience| department|salary|\n",
      "+------+----+----------+-----------+------+\n",
      "|Rushil|24.0|         2|Engineering| 60000|\n",
      "| Manav|27.0|         5|         HR| 75000|\n",
      "| Ruchi|30.0|         8|    Finance| 80000|\n",
      "|Akshat|28.0|         6|Engineering| 70000|\n",
      "|Shivam|35.0|        10|         HR| 90000|\n",
      "+------+----+----------+-----------+------+\n",
      "\n"
     ]
    }
   ],
   "source": [
    "df_pyspark.show()"
   ]
  },
  {
   "cell_type": "code",
   "execution_count": 130,
   "id": "79525860",
   "metadata": {},
   "outputs": [],
   "source": [
    "from pyspark.ml.feature import VectorAssembler\n",
    "\n",
    "vectorAssembler = VectorAssembler(inputCols=[\"age\", \"experience\"], outputCol=\"Independent Features\")"
   ]
  },
  {
   "cell_type": "code",
   "execution_count": 131,
   "id": "5509e4ac",
   "metadata": {},
   "outputs": [],
   "source": [
    "output = vectorAssembler.transform(df_pyspark)"
   ]
  },
  {
   "cell_type": "code",
   "execution_count": 132,
   "id": "0de62230",
   "metadata": {},
   "outputs": [
    {
     "name": "stdout",
     "output_type": "stream",
     "text": [
      "+------+----+----------+-----------+------+--------------------+\n",
      "|  name| age|experience| department|salary|Independent Features|\n",
      "+------+----+----------+-----------+------+--------------------+\n",
      "|Rushil|24.0|         2|Engineering| 60000|          [24.0,2.0]|\n",
      "| Manav|27.0|         5|         HR| 75000|          [27.0,5.0]|\n",
      "| Ruchi|30.0|         8|    Finance| 80000|          [30.0,8.0]|\n",
      "|Akshat|28.0|         6|Engineering| 70000|          [28.0,6.0]|\n",
      "|Shivam|35.0|        10|         HR| 90000|         [35.0,10.0]|\n",
      "+------+----+----------+-----------+------+--------------------+\n",
      "\n"
     ]
    }
   ],
   "source": [
    "output.show()"
   ]
  },
  {
   "cell_type": "code",
   "execution_count": 133,
   "id": "a87c5294",
   "metadata": {},
   "outputs": [],
   "source": [
    "finalized_data = output.select(\"Independent Features\", \"salary\")"
   ]
  },
  {
   "cell_type": "code",
   "execution_count": 134,
   "id": "2db3c849",
   "metadata": {},
   "outputs": [
    {
     "name": "stdout",
     "output_type": "stream",
     "text": [
      "+--------------------+------+\n",
      "|Independent Features|salary|\n",
      "+--------------------+------+\n",
      "|          [24.0,2.0]| 60000|\n",
      "|          [27.0,5.0]| 75000|\n",
      "|          [30.0,8.0]| 80000|\n",
      "|          [28.0,6.0]| 70000|\n",
      "|         [35.0,10.0]| 90000|\n",
      "+--------------------+------+\n",
      "\n"
     ]
    }
   ],
   "source": [
    "finalized_data.show()"
   ]
  },
  {
   "cell_type": "code",
   "execution_count": 135,
   "id": "14ae3c93",
   "metadata": {},
   "outputs": [
    {
     "name": "stderr",
     "output_type": "stream",
     "text": [
      "25/10/03 16:23:33 WARN Instrumentation: [71513e99] regParam is zero, which might cause numerical instability and overfitting.\n",
      "25/10/03 16:23:33 WARN InstanceBuilder: Failed to load implementation from:dev.ludovic.netlib.blas.JNIBLAS\n",
      "25/10/03 16:23:33 WARN InstanceBuilder: Failed to load implementation from:dev.ludovic.netlib.lapack.JNILAPACK\n"
     ]
    }
   ],
   "source": [
    "from pyspark.ml.regression import LinearRegression\n",
    "train_data, test_data = finalized_data.randomSplit([0.75, 0.25])\n",
    "regressor = LinearRegression(featuresCol='Independent Features', labelCol='salary')\n",
    "regressor = regressor.fit(train_data)"
   ]
  },
  {
   "cell_type": "code",
   "execution_count": 136,
   "id": "87168805",
   "metadata": {},
   "outputs": [
    {
     "data": {
      "text/plain": [
       "DenseVector([-0.0, 5000.0])"
      ]
     },
     "execution_count": 136,
     "metadata": {},
     "output_type": "execute_result"
    }
   ],
   "source": [
    "regressor.coefficients"
   ]
  },
  {
   "cell_type": "code",
   "execution_count": null,
   "id": "b155d258",
   "metadata": {},
   "outputs": [],
   "source": []
  },
  {
   "cell_type": "code",
   "execution_count": 137,
   "id": "fb873ae5",
   "metadata": {},
   "outputs": [
    {
     "name": "stdout",
     "output_type": "stream",
     "text": [
      "+--------------------+------+-----------------+\n",
      "|Independent Features|salary|       prediction|\n",
      "+--------------------+------+-----------------+\n",
      "|          [24.0,2.0]| 60000|49999.99999999482|\n",
      "|          [27.0,5.0]| 75000|64999.99999999815|\n",
      "+--------------------+------+-----------------+\n",
      "\n"
     ]
    }
   ],
   "source": [
    "pred_results = regressor.evaluate(test_data)\n",
    "pred_results.predictions.show()"
   ]
  }
 ],
 "metadata": {
  "kernelspec": {
   "display_name": ".venv",
   "language": "python",
   "name": "python3"
  },
  "language_info": {
   "codemirror_mode": {
    "name": "ipython",
    "version": 3
   },
   "file_extension": ".py",
   "mimetype": "text/x-python",
   "name": "python",
   "nbconvert_exporter": "python",
   "pygments_lexer": "ipython3",
   "version": "3.9.6"
  }
 },
 "nbformat": 4,
 "nbformat_minor": 5
}
